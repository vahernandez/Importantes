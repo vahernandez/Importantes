{
 "cells": [
  {
   "cell_type": "code",
   "execution_count": null,
   "metadata": {},
   "outputs": [],
   "source": [
    "\"\"\"\n",
    "Un diccionario es un conjunto de parejas clave- valor (key-value). Es decir, se accede a cada elemento a partir de su clave. Se definen de la siguiente manera:\n",
    "\"\"\""
   ]
  },
  {
   "cell_type": "code",
   "execution_count": 3,
   "metadata": {},
   "outputs": [],
   "source": [
    "estudiante = {\n",
    "\t\"nombre\": \"Iñaki Perurena\",\n",
    "\t\"edad\": 30,\n",
    "\t\"nota_media\": 7.25,\n",
    "\t\"repetidor\" : False\n",
    "}"
   ]
  },
  {
   "cell_type": "code",
   "execution_count": 4,
   "metadata": {},
   "outputs": [],
   "source": [
    "\"\"\"\n",
    "Las claves tienen que ser únicas y estar formadas por un string o un número. Para acceder al valor de una clave exiten dos maneras distintas:\n",
    "\"\"\"\n",
    "# Acceder al valor de una clave\n",
    "edad = estudiante[\"edad\"] # devuelve el valor de 'edad'\n",
    "nota_media = estudiante.get(\"nota_media\") # devuelve el valor de 'nota_media'"
   ]
  },
  {
   "cell_type": "code",
   "execution_count": 1,
   "metadata": {},
   "outputs": [
    {
     "name": "stdout",
     "output_type": "stream",
     "text": [
      "a\n",
      "b\n",
      "c\n"
     ]
    }
   ],
   "source": [
    "#Recorrer un diccionario\n",
    "\n",
    "diccionario =  {'a':1,  'b':2,  'c':3}\n",
    "for key in diccionario:\n",
    "\tprint(key)\n",
    "\n",
    "# Resultado: a b c"
   ]
  },
  {
   "cell_type": "code",
   "execution_count": 3,
   "metadata": {},
   "outputs": [
    {
     "name": "stdout",
     "output_type": "stream",
     "text": [
      "a\n",
      "b\n",
      "c\n"
     ]
    }
   ],
   "source": [
    "# Esto es lo mismo:\n",
    "diccionario =  {'a':1,  'b':2,  'c':3}\n",
    "for key in diccionario.keys():\n",
    "\tprint (key)\n",
    "\n",
    "# Resultado: a b c"
   ]
  },
  {
   "cell_type": "code",
   "execution_count": 4,
   "metadata": {},
   "outputs": [
    {
     "name": "stdout",
     "output_type": "stream",
     "text": [
      "1\n",
      "2\n",
      "3\n"
     ]
    }
   ],
   "source": [
    "#Por lo tanto, para iterar accediendo a los valores, realizaremos lo siguiente:\n",
    "diccionario =  {'a':1,  'b':2,  'c':3}\n",
    "for key in diccionario:\n",
    "\tprint(diccionario[key])\n",
    "\n",
    "# Resultado: 1 2 3"
   ]
  },
  {
   "cell_type": "code",
   "execution_count": 5,
   "metadata": {},
   "outputs": [
    {
     "name": "stdout",
     "output_type": "stream",
     "text": [
      "El valor de a is 1\n",
      "El valor de b is 2\n",
      "El valor de c is 3\n"
     ]
    }
   ],
   "source": [
    "# Otro manera alternativa sería empleando la función items(), la cual devuelve el diccionario como tuplas de tipo (key,value):\n",
    "\n",
    "diccionario =  {'a':1,  'b':2,  'c':3}\n",
    "for key, value in diccionario.items():\n",
    "\tprint(\"El valor de %s is %d\" % (key, value))\n",
    "\n",
    "# Resultado:\n",
    "# El valor de a is 1\n",
    "# El valor de b is 2\n",
    "# El valor de c is 3"
   ]
  },
  {
   "cell_type": "code",
   "execution_count": null,
   "metadata": {},
   "outputs": [],
   "source": [
    "\"\"\"\n",
    "Ejercicio 1\n",
    "Crea un programa que recorra una lista y cree un diccionario que contenga el número de veces que aparece cada número en la lista.\n",
    "\n",
    "Ejemplo: [12, 23, 5, 12, 92, 5,12, 5, 29, 92, 64,23]\n",
    "Resultado: {12: 3, 23: 2, 5: 3, 92: 2, 29: 1, 64: 1}\n",
    "\"\"\""
   ]
  },
  {
   "cell_type": "code",
   "execution_count": 5,
   "metadata": {},
   "outputs": [
    {
     "name": "stdout",
     "output_type": "stream",
     "text": [
      "{12: 3, 23: 2, 5: 3, 92: 2, 29: 1, 64: 1}\n"
     ]
    }
   ],
   "source": [
    "dicc = {}\n",
    "num = [12, 23, 5, 12, 92, 5,12, 5, 29, 92, 64,23]\n",
    "for i in num:\n",
    "    if i not in dicc:\n",
    "        dicc[i]=1\n",
    "    else:\n",
    "        dicc[i]+=1\n",
    "print(dicc)"
   ]
  },
  {
   "cell_type": "code",
   "execution_count": null,
   "metadata": {},
   "outputs": [],
   "source": [
    "\"\"\"\n",
    "Ejercicio 2\n",
    "Recorre un diccionario y crea una lista solo con los valores que contiene, sin añadir valores duplicados.\n",
    "\n",
    "Ejemplo: {'Mikel': 3, 'Ane': 8, 'Amaia': 12, 'Unai': 5, 'Jon': 8, 'Ainhoa': 7, 'Maite': 5}\n",
    "Resultado: [3, 8, 12, 5, 7]\n",
    "\"\"\""
   ]
  },
  {
   "cell_type": "code",
   "execution_count": 7,
   "metadata": {},
   "outputs": [
    {
     "name": "stdout",
     "output_type": "stream",
     "text": [
      "[3, 8, 12, 5, 7]\n"
     ]
    }
   ],
   "source": [
    "dicc =  {'Mikel': 3, 'Ane': 8, 'Amaia': 12, 'Unai': 5, 'Jon': 8, 'Ainhoa': 7, 'Maite': 5}\n",
    "\n",
    "lista = []\n",
    "\n",
    "for i in dicc:\n",
    "    if dicc[i] not in lista:\n",
    "        lista.append(dicc[i])\n",
    "print(lista)\n",
    "        "
   ]
  },
  {
   "cell_type": "code",
   "execution_count": null,
   "metadata": {},
   "outputs": [],
   "source": [
    "\"\"\"\n",
    "Ejercicio 3\n",
    "Crea una programa de Login que compruebe el usuario y contraseña en el diccionario a continuación:\n",
    "\n",
    "usuarios = {  \n",
    "      \"iperurena\": {  \n",
    "          \"nombre\": \"Iñaki\",  \n",
    "\t\t  \"apellido\": \"Perurena\",  \n",
    "\t\t  \"password\": \"123123\"  \n",
    "\t  },  \n",
    "\t  \"fmuguruza\": {  \n",
    "\t       \"nombre\": \"Fermín\",  \n",
    "\t\t  \"apellido\": \"Muguruza\",  \n",
    "\t\t  \"password\": \"654321\"  \n",
    "\t  },  \n",
    "\t  \"aolaizola\": {  \n",
    "\t       \"nombre\": \"Aimar\",  \n",
    "\t\t  \"apellido\": \"Olaizola\",  \n",
    "\t\t  \"password\": \"123456\"  \n",
    "\t  }  \n",
    "    }\n",
    "El usuario tendrá un máximo de 3 intentos, y al acceder correctamente se mostrará el nombre y apellido del usuario.\n",
    "\"\"\""
   ]
  },
  {
   "cell_type": "code",
   "execution_count": null,
   "metadata": {},
   "outputs": [],
   "source": []
  },
  {
   "cell_type": "code",
   "execution_count": 1,
   "metadata": {},
   "outputs": [],
   "source": [
    "credenciales = input(\"Escribe algo\")\n",
    "\n",
    "print(credenciales)"
   ]
  },
  {
   "cell_type": "code",
   "execution_count": null,
   "metadata": {},
   "outputs": [],
   "source": [
    "        "
   ]
  }
 ],
 "metadata": {
  "kernelspec": {
   "display_name": "Python 3",
   "language": "python",
   "name": "python3"
  },
  "language_info": {
   "codemirror_mode": {
    "name": "ipython",
    "version": 3
   },
   "file_extension": ".py",
   "mimetype": "text/x-python",
   "name": "python",
   "nbconvert_exporter": "python",
   "pygments_lexer": "ipython3",
   "version": "3.10.11"
  }
 },
 "nbformat": 4,
 "nbformat_minor": 2
}
